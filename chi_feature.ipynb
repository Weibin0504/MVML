{
 "cells": [
  {
   "cell_type": "code",
   "execution_count": 29,
   "metadata": {},
   "outputs": [
    {
     "name": "stdout",
     "output_type": "stream",
     "text": [
      "label (19241, 5)\n",
      "compute_time 11.4458360672\n",
      "(19063,)\n",
      "chi selected_features ok\n"
     ]
    }
   ],
   "source": [
    "import numpy as np\n",
    "import scipy as sp\n",
    "from scipy.io import mmread\n",
    "import time\n",
    "from sklearn.feature_selection import chi2, SelectKBest\n",
    "\n",
    "label_num = 5\n",
    "sample = 19241\n",
    "path = '/home/17-wb/wb/mvml/reutersdata/'\n",
    "labels = np.loadtxt(path+'nNone_label.csv',delimiter=',')\n",
    "title_sp = mmread(path+'sp_title_tfidf.mtx')\n",
    "tfidf_title = title_sp.toarray()\n",
    "\n",
    "y_label = np.where(labels>0,1,0)\n",
    "print 'label',y_label.shape\n",
    "selected_features = []\n",
    "t0 = time.time()\n",
    "for label in range(label_num):\n",
    "    selector = SelectKBest(chi2, k='all')\n",
    "    selector.fit(tfidf_title, y_label[:,label])\n",
    "    selected_features.append(list(selector.scores_))\n",
    "\n",
    "selected_features = np.max(np.array(selected_features), axis=0)>3.0#鍘熸潵涓?.5\n",
    "compute_time = time.time() - t0\n",
    "print 'compute_time',compute_time\n",
    "print selected_features.shape\n",
    "print('chi selected_features ok')"
   ]
  },
  {
   "cell_type": "code",
   "execution_count": 30,
   "metadata": {},
   "outputs": [],
   "source": [
    "import pandas as pd\n",
    "feature = pd.DataFrame(selected_features).T\n",
    "title = pd.DataFrame(tfidf_title)\n",
    "con_title = pd.concat([feature,title],axis=0,ignore_index=True)"
   ]
  },
  {
   "cell_type": "code",
   "execution_count": 33,
   "metadata": {},
   "outputs": [],
   "source": [
    "data = con_title.loc[:,con_title.iloc[0]>0].drop([0])\n"
   ]
  }
 ],
 "metadata": {
  "kernelspec": {
   "display_name": "Python 2",
   "language": "python",
   "name": "python2"
  },
  "language_info": {
   "codemirror_mode": {
    "name": "ipython",
    "version": 2
   },
   "file_extension": ".py",
   "mimetype": "text/x-python",
   "name": "python",
   "nbconvert_exporter": "python",
   "pygments_lexer": "ipython2",
   "version": "2.7.14"
  }
 },
 "nbformat": 4,
 "nbformat_minor": 2
}
